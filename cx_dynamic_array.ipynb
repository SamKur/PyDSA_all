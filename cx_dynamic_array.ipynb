{
 "cells": [
  {
   "cell_type": "markdown",
   "metadata": {},
   "source": [
    "### Empty List"
   ]
  },
  {
   "cell_type": "code",
   "execution_count": 6,
   "metadata": {},
   "outputs": [],
   "source": [
    "import ctypes\n",
    "class MeraList:\n",
    "    def __init__ (self):\n",
    "        self.size = 1 #max capacity of list\n",
    "        self.n = 0  #currently how many items present\n",
    "        #creates a ctype array with size = self.size\n",
    "        self.A = self.__make_array(self.size)\n",
    "        # print(self.A)       # <__main__.py_object_Array_1 object at 0x00000225F58CB7D0>\n",
    "\n",
    "\n",
    "    def __len__(self):\n",
    "        return self.n\n",
    "\n",
    "    def __make_array(self,capacity):\n",
    "        #creates a ctype array (static, referential) with size capacity\n",
    "        return (capacity*ctypes.py_object)()"
   ]
  },
  {
   "cell_type": "code",
   "execution_count": 7,
   "metadata": {},
   "outputs": [
    {
     "data": {
      "text/plain": [
       "0"
      ]
     },
     "execution_count": 7,
     "metadata": {},
     "output_type": "execute_result"
    }
   ],
   "source": [
    "L = MeraList()\n",
    "len(L)"
   ]
  },
  {
   "cell_type": "markdown",
   "metadata": {},
   "source": [
    "### Append"
   ]
  },
  {
   "cell_type": "code",
   "execution_count": 14,
   "metadata": {},
   "outputs": [],
   "source": [
    "import ctypes\n",
    "class MeraList:\n",
    "    def __init__ (self):\n",
    "        self.size = 1 #max capacity of list\n",
    "        self.n = 0  #currently how many items present\n",
    "        #creates a ctype array with size = self.size\n",
    "        self.A = self.__make_array(self.size)\n",
    "\n",
    "    def __len__(self):\n",
    "        return self.n\n",
    "\n",
    "    def append(self, item):\n",
    "        if self.size == self.n:\n",
    "            self.__resize(2 * self.size)\n",
    "\n",
    "        self.A[self.n] = item\n",
    "        self.n = self.n + 1\n",
    "\n",
    "    def __resize(self, size):\n",
    "        newA = self.__make_array(size)\n",
    "        self.size = size\n",
    "        for i in range(self.n):\n",
    "            newA[i] = self.A[i]\n",
    "        self.A = newA\n",
    "\n",
    "    def __make_array(self,capacity):\n",
    "        #creates a ctype array (static, referential) with size capacity\n",
    "        return (capacity*ctypes.py_object)()\n",
    "\n",
    "L = MeraList()"
   ]
  },
  {
   "cell_type": "code",
   "execution_count": 16,
   "metadata": {},
   "outputs": [
    {
     "data": {
      "text/plain": [
       "8"
      ]
     },
     "execution_count": 16,
     "metadata": {},
     "output_type": "execute_result"
    }
   ],
   "source": [
    "L.append(143)\n",
    "L.append(\"Poli\")\n",
    "L.append(42)\n",
    "L.append(False)\n",
    "\n",
    "len(L)"
   ]
  },
  {
   "cell_type": "markdown",
   "metadata": {},
   "source": [
    "### Viewing list items"
   ]
  },
  {
   "cell_type": "code",
   "execution_count": 24,
   "metadata": {},
   "outputs": [],
   "source": [
    "import ctypes\n",
    "class MeraList:\n",
    "    def __init__ (self):\n",
    "        self.size = 1 #max capacity of list\n",
    "        self.n = 0  #currently how many items present\n",
    "        #creates a ctype array with size = self.size\n",
    "        self.A = self.__make_array(self.size)\n",
    "\n",
    "    def __len__(self):\n",
    "        return self.n\n",
    "\n",
    "    def append(self, item):\n",
    "        if self.size == self.n:\n",
    "            self.__resize(2 * self.size)\n",
    "\n",
    "        self.A[self.n] = item\n",
    "        self.n = self.n + 1\n",
    "\n",
    "    def __resize(self, size):\n",
    "        newA = self.__make_array(size)\n",
    "        self.size = size\n",
    "        for i in range(self.n):\n",
    "            newA[i] = self.A[i]\n",
    "        self.A = newA\n",
    "\n",
    "    def __make_array(self,capacity):\n",
    "        #creates a ctype array (static, referential) with size capacity\n",
    "        return (capacity*ctypes.py_object)()\n",
    "\n",
    "    def __str__(self):\n",
    "        res = ''\n",
    "        for i in range(self.n):\n",
    "            res = res + str(self.A[i]) + ', '\n",
    "        return '[ ' + res[:-2] + ' ]'\n",
    "\n",
    "\n",
    "\n",
    "L = MeraList()\n",
    "L.append(\"Poli\")\n",
    "L.append(143)\n",
    "L.append('21 ?')\n",
    "L.append(False)"
   ]
  },
  {
   "cell_type": "code",
   "execution_count": 25,
   "metadata": {},
   "outputs": [
    {
     "name": "stdout",
     "output_type": "stream",
     "text": [
      "[ Poli, 143, 21 ?, False ]\n"
     ]
    }
   ],
   "source": [
    "print(L)"
   ]
  },
  {
   "cell_type": "markdown",
   "metadata": {},
   "source": [
    "## Value at index fetching... like -> L[2]\n",
    "\n",
    "Use __getitem__ magic method"
   ]
  },
  {
   "cell_type": "code",
   "execution_count": 36,
   "metadata": {},
   "outputs": [],
   "source": [
    "import ctypes\n",
    "class MeraList:\n",
    "    def __init__ (self):\n",
    "        self.size = 1 #max capacity of list\n",
    "        self.n = 0  #currently how many items present\n",
    "        #creates a ctype array with size = self.size\n",
    "        self.A = self.__make_array(self.size)\n",
    "\n",
    "    def __len__(self):\n",
    "        return self.n\n",
    "\n",
    "    def append(self, item):\n",
    "        if self.size == self.n:\n",
    "            self.__resize(2 * self.size)\n",
    "\n",
    "        self.A[self.n] = item\n",
    "        self.n = self.n + 1\n",
    "\n",
    "    def __resize(self, size):\n",
    "        newA = self.__make_array(size)\n",
    "        self.size = size\n",
    "        for i in range(self.n):\n",
    "            newA[i] = self.A[i]\n",
    "        self.A = newA\n",
    "\n",
    "    def __make_array(self,capacity):\n",
    "        #creates a ctype array (static, referential) with size capacity\n",
    "        return (capacity*ctypes.py_object)()\n",
    "\n",
    "    def __str__(self):\n",
    "        res = ''\n",
    "        for i in range(self.n):\n",
    "            res = res + str(self.A[i]) + ', '\n",
    "        return '[ ' + res[:-2] + ' ]'\n",
    "\n",
    "    def __getitem__(self, index):\n",
    "        if index in range(0,self.n+1):\n",
    "            return self.A[index]\n",
    "        return 'IndexError'\n",
    "        \n",
    "\n",
    "        \n",
    "\n",
    "\n",
    "\n",
    "L = MeraList()\n",
    "L.append(\"Poli\")\n",
    "L.append(143)\n",
    "L.append('21 ?')\n",
    "L.append(False)"
   ]
  },
  {
   "cell_type": "code",
   "execution_count": 37,
   "metadata": {},
   "outputs": [
    {
     "data": {
      "text/plain": [
       "'IndexError'"
      ]
     },
     "execution_count": 37,
     "metadata": {},
     "output_type": "execute_result"
    }
   ],
   "source": [
    "L[20]"
   ]
  },
  {
   "cell_type": "markdown",
   "metadata": {},
   "source": [
    "## pop\n",
    "#### ~~prime_numbers.pop(index = 2)~~ last item pop\n",
    "#### removes item & also returns the removed item."
   ]
  },
  {
   "cell_type": "code",
   "execution_count": 56,
   "metadata": {},
   "outputs": [
    {
     "name": "stdout",
     "output_type": "stream",
     "text": [
      "[ Poli, 143, False, 21 ? ]\n"
     ]
    }
   ],
   "source": [
    "import ctypes\n",
    "class MeraList:\n",
    "    def __init__ (self):\n",
    "        self.size = 1 #max capacity of list\n",
    "        self.n = 0  #currently how many items present\n",
    "        #creates a ctype array with size = self.size\n",
    "        self.A = self.__make_array(self.size)\n",
    "\n",
    "    def __len__(self):\n",
    "        return self.n\n",
    "\n",
    "    def append(self, item):\n",
    "        if self.size == self.n:\n",
    "            self.__resize(2 * self.size)\n",
    "\n",
    "        self.A[self.n] = item\n",
    "        self.n = self.n + 1\n",
    "\n",
    "    def __resize(self, size):\n",
    "        newA = self.__make_array(size)\n",
    "        self.size = size\n",
    "        for i in range(self.n):\n",
    "            newA[i] = self.A[i]\n",
    "        self.A = newA\n",
    "\n",
    "    def __make_array(self,capacity):\n",
    "        #creates a ctype array (static, referential) with size capacity\n",
    "        return (capacity*ctypes.py_object)()\n",
    "\n",
    "    # def __str__(self):\n",
    "    def __repr__(self):  #its better\n",
    "        res = ''\n",
    "        for i in range(self.n):\n",
    "            res = res + str(self.A[i]) + ', '\n",
    "        return '[ ' + res[:-2] + ' ]'\n",
    "\n",
    "    def __getitem__(self, index):\n",
    "        if index in range(0,self.n+1):\n",
    "            return self.A[index]\n",
    "        return 'IndexError'\n",
    "\n",
    "    # def pop(self, index):  #This is for pop(index)\n",
    "    #     if index in range(0,self.n+1):\n",
    "    #         print(self.A[index])\n",
    "    #         pass\n",
    "    #     return 'IndexError'\n",
    "    #         # print\n",
    "\n",
    "    def pop(self):  #last item pop\n",
    "        if self.n == 0:\n",
    "            print('Empty List')\n",
    "        else:\n",
    "            print(self.A[self.n-1]) #OR\n",
    "            # print(self.A[-1])\n",
    "            self.n = self.n - 1\n",
    "\n",
    "\n",
    "\n",
    "L = MeraList()\n",
    "L.append(\"Poli\")\n",
    "L.append(143)\n",
    "L.append(False)\n",
    "L.append('21 ?')\n",
    "print(L)"
   ]
  },
  {
   "cell_type": "code",
   "execution_count": 57,
   "metadata": {},
   "outputs": [
    {
     "name": "stdout",
     "output_type": "stream",
     "text": [
      "21 ?\n"
     ]
    }
   ],
   "source": [
    "L.pop()"
   ]
  },
  {
   "cell_type": "code",
   "execution_count": 58,
   "metadata": {},
   "outputs": [
    {
     "data": {
      "text/plain": [
       "[ Poli, 143, False ]"
      ]
     },
     "execution_count": 58,
     "metadata": {},
     "output_type": "execute_result"
    }
   ],
   "source": [
    "L"
   ]
  },
  {
   "cell_type": "markdown",
   "metadata": {},
   "source": [
    "## clear\n",
    "#### list.clear() -> empties entire list"
   ]
  },
  {
   "cell_type": "code",
   "execution_count": 59,
   "metadata": {},
   "outputs": [
    {
     "name": "stdout",
     "output_type": "stream",
     "text": [
      "[ Poli, 143, False, 21 ? ]\n"
     ]
    }
   ],
   "source": [
    "import ctypes\n",
    "class MeraList:\n",
    "    def __init__ (self):\n",
    "        self.size = 1 #max capacity of list\n",
    "        self.n = 0  #currently how many items present\n",
    "        #creates a ctype array with size = self.size\n",
    "        self.A = self.__make_array(self.size)\n",
    "\n",
    "    def __len__(self):\n",
    "        return self.n\n",
    "\n",
    "    def append(self, item):\n",
    "        if self.size == self.n:\n",
    "            self.__resize(2 * self.size)\n",
    "\n",
    "        self.A[self.n] = item\n",
    "        self.n = self.n + 1\n",
    "\n",
    "    def __resize(self, size):\n",
    "        newA = self.__make_array(size)\n",
    "        self.size = size\n",
    "        for i in range(self.n):\n",
    "            newA[i] = self.A[i]\n",
    "        self.A = newA\n",
    "\n",
    "    def __make_array(self,capacity):\n",
    "        #creates a ctype array (static, referential) with size capacity\n",
    "        return (capacity*ctypes.py_object)()\n",
    "\n",
    "    # def __str__(self):\n",
    "    def __repr__(self):  #its better\n",
    "        res = ''\n",
    "        for i in range(self.n):\n",
    "            res = res + str(self.A[i]) + ', '\n",
    "        return '[ ' + res[:-2] + ' ]'\n",
    "\n",
    "    def __getitem__(self, index):\n",
    "        if index in range(0,self.n+1):\n",
    "            return self.A[index]\n",
    "        return 'IndexError'\n",
    "\n",
    "    def pop(self):  #last item pop\n",
    "        if self.n == 0:\n",
    "            print('Empty List')\n",
    "        else:\n",
    "            print(self.A[self.n-1]) #OR\n",
    "            # print(self.A[-1])\n",
    "            self.n = self.n - 1\n",
    "\n",
    "    def clear(self):\n",
    "        self.n = 0\n",
    "\n",
    "\n",
    "\n",
    "L = MeraList()\n",
    "L.append(\"Poli\")\n",
    "L.append(143)\n",
    "L.append(False)\n",
    "L.append('21 ?')\n",
    "print(L)"
   ]
  },
  {
   "cell_type": "code",
   "execution_count": 61,
   "metadata": {},
   "outputs": [
    {
     "data": {
      "text/plain": [
       "[  ]"
      ]
     },
     "execution_count": 61,
     "metadata": {},
     "output_type": "execute_result"
    }
   ],
   "source": [
    "L.clear()\n",
    "L"
   ]
  },
  {
   "cell_type": "markdown",
   "metadata": {},
   "source": [
    "## find by index\n",
    "#### .index -> finds first index of an item, if not present return ValueError\n",
    "#### .find -> finds first index of an item, if not present return -1\n",
    "list.index(element)\n",
    "list.find(element)  -> implementing here\n"
   ]
  },
  {
   "cell_type": "code",
   "execution_count": 71,
   "metadata": {},
   "outputs": [
    {
     "name": "stdout",
     "output_type": "stream",
     "text": [
      "[ Poli, 143, False, 21 ? ]\n"
     ]
    }
   ],
   "source": [
    "import ctypes\n",
    "class MeraList:\n",
    "    def __init__ (self):\n",
    "        self.size = 1 #max capacity of list\n",
    "        self.n = 0  #currently how many items present\n",
    "        #creates a ctype array with size = self.size\n",
    "        self.A = self.__make_array(self.size)\n",
    "\n",
    "    def __len__(self):\n",
    "        return self.n\n",
    "\n",
    "    def append(self, item):\n",
    "        if self.size == self.n:\n",
    "            self.__resize(2 * self.size)\n",
    "\n",
    "        self.A[self.n] = item\n",
    "        self.n = self.n + 1\n",
    "\n",
    "    def __resize(self, size):\n",
    "        newA = self.__make_array(size)\n",
    "        self.size = size\n",
    "        for i in range(self.n):\n",
    "            newA[i] = self.A[i]\n",
    "        self.A = newA\n",
    "\n",
    "    def __make_array(self,capacity):\n",
    "        #creates a ctype array (static, referential) with size capacity\n",
    "        return (capacity*ctypes.py_object)()\n",
    "\n",
    "    # def __str__(self):\n",
    "    def __repr__(self):  #its better\n",
    "        res = ''\n",
    "        for i in range(self.n):\n",
    "            res = res + str(self.A[i]) + ', '\n",
    "        return '[ ' + res[:-2] + ' ]'\n",
    "\n",
    "    def __getitem__(self, index):\n",
    "        if index in range(0,self.n+1):\n",
    "            return self.A[index]\n",
    "        return 'IndexError'\n",
    "\n",
    "    def pop(self):  #last item pop\n",
    "        if self.n == 0:\n",
    "            print('Empty List')\n",
    "        else:\n",
    "            print(self.A[self.n-1]) #OR\n",
    "            # print(self.A[-1])\n",
    "            self.n = self.n - 1\n",
    "\n",
    "    def clear(self):\n",
    "        self.n = 0\n",
    "        self.size = 1 #optional, to prevent of waste of storage\n",
    "\n",
    "    def find(self, val):\n",
    "        if val not in self.A:\n",
    "            return -1\n",
    "        for i in range(self.n +1):\n",
    "            if self.A[i] == val:\n",
    "                return i\n",
    "        \n",
    "\n",
    "\n",
    "L = MeraList()\n",
    "L.append(\"Poli\")\n",
    "L.append(143)\n",
    "L.append(False)\n",
    "L.append('21 ?')\n",
    "print(L)"
   ]
  },
  {
   "cell_type": "code",
   "execution_count": 72,
   "metadata": {},
   "outputs": [
    {
     "name": "stdout",
     "output_type": "stream",
     "text": [
      "1\n"
     ]
    }
   ],
   "source": [
    "print(L.find(143))"
   ]
  },
  {
   "cell_type": "code",
   "execution_count": 73,
   "metadata": {},
   "outputs": [
    {
     "name": "stdout",
     "output_type": "stream",
     "text": [
      "-1\n"
     ]
    }
   ],
   "source": [
    "print(L.find('143'))"
   ]
  },
  {
   "cell_type": "markdown",
   "metadata": {},
   "source": [
    "## insert\n",
    "##### Inserts an element at a given index in the list.\n",
    "##### Shifts other elements to the right to accommodate the new element. \n",
    "##### list.insert(index, value)"
   ]
  },
  {
   "cell_type": "code",
   "execution_count": 92,
   "metadata": {},
   "outputs": [
    {
     "name": "stdout",
     "output_type": "stream",
     "text": [
      "[ Poli, 143, False, 21 ? ]\n"
     ]
    }
   ],
   "source": [
    "import ctypes\n",
    "class MeraList:\n",
    "    def __init__ (self):\n",
    "        self.size = 1 #max capacity of list\n",
    "        self.n = 0  #currently how many items present\n",
    "        #creates a ctype array with size = self.size\n",
    "        self.A = self.__make_array(self.size)\n",
    "\n",
    "    def __len__(self):\n",
    "        return self.n\n",
    "\n",
    "    def append(self, item):\n",
    "        if self.size == self.n:\n",
    "            self.__resize(2 * self.size)\n",
    "\n",
    "        self.A[self.n] = item\n",
    "        self.n = self.n + 1\n",
    "\n",
    "    def __resize(self, size):\n",
    "        newA = self.__make_array(size)\n",
    "        self.size = size\n",
    "        for i in range(self.n):\n",
    "            newA[i] = self.A[i]\n",
    "        self.A = newA\n",
    "\n",
    "    def __make_array(self,capacity):\n",
    "        #creates a ctype array (static, referential) with size capacity\n",
    "        return (capacity*ctypes.py_object)()\n",
    "\n",
    "    # def __str__(self):\n",
    "    def __repr__(self):  #its better\n",
    "        res = ''\n",
    "        for i in range(self.n):\n",
    "            res = res + str(self.A[i]) + ', '\n",
    "        return '[ ' + res[:-2] + ' ]'\n",
    "\n",
    "    def __getitem__(self, index):\n",
    "        if index in range(0,self.n+1):\n",
    "            return self.A[index]\n",
    "        return 'IndexError'\n",
    "\n",
    "    def pop(self):  #last item pop\n",
    "        if self.n == 0:\n",
    "            print('Empty List')\n",
    "        else:\n",
    "            print(self.A[self.n-1]) #OR\n",
    "            # print(self.A[-1])\n",
    "            self.n = self.n - 1\n",
    "\n",
    "    def clear(self):\n",
    "        self.n = 0\n",
    "        self.size = 1 #optional, to prevent of waste of storage\n",
    "\n",
    "    def find(self, val):\n",
    "        if val not in self.A:\n",
    "            return -1\n",
    "        for i in range(self.n +1):\n",
    "            if self.A[i] == val:\n",
    "                return i\n",
    "\n",
    "    def insert(self, index, val):\n",
    "        if self.n == self.size:\n",
    "            self.__resize(self.size*2)\n",
    "            \n",
    "        for j in range(self.n,index,-1):\n",
    "            self.A[j] = self.A[j-1]\n",
    "        self.A[index] = val\n",
    "        self.n += 1\n",
    "\n",
    "\n",
    "L = MeraList()\n",
    "L.append(\"Poli\")\n",
    "L.append(143)\n",
    "L.append(False)\n",
    "L.append('21 ?')\n",
    "print(L)"
   ]
  },
  {
   "cell_type": "code",
   "execution_count": 93,
   "metadata": {},
   "outputs": [
    {
     "data": {
      "text/plain": [
       "[ Poli, 143, Debika, False, 21 ? ]"
      ]
     },
     "execution_count": 93,
     "metadata": {},
     "output_type": "execute_result"
    }
   ],
   "source": [
    "L.insert(2,'Debika')\n",
    "L"
   ]
  },
  {
   "cell_type": "markdown",
   "metadata": {},
   "source": [
    "## Delete\n",
    "##### del by index -> del mylist[1]  -->> will USE\n",
    "##### -> my_list.remove(element)\n",
    "#####  list.clear() -> empties entire list"
   ]
  },
  {
   "cell_type": "code",
   "execution_count": 112,
   "metadata": {},
   "outputs": [
    {
     "name": "stdout",
     "output_type": "stream",
     "text": [
      "[ Poli, 143, False, 21 ? ]\n"
     ]
    }
   ],
   "source": [
    "import ctypes\n",
    "class MeraList:\n",
    "    def __init__ (self):\n",
    "        self.size = 1 #max capacity of list\n",
    "        self.n = 0  #currently how many items present\n",
    "        #creates a ctype array with size = self.size\n",
    "        self.A = self.__make_array(self.size)\n",
    "\n",
    "    def __len__(self):\n",
    "        return self.n\n",
    "\n",
    "    def append(self, item):\n",
    "        if self.size == self.n:\n",
    "            self.__resize(2 * self.size)\n",
    "\n",
    "        self.A[self.n] = item\n",
    "        self.n = self.n + 1\n",
    "\n",
    "    def __resize(self, size):\n",
    "        newA = self.__make_array(size)\n",
    "        self.size = size\n",
    "        for i in range(self.n):\n",
    "            newA[i] = self.A[i]\n",
    "        self.A = newA\n",
    "\n",
    "    def __make_array(self,capacity):\n",
    "        #creates a ctype array (static, referential) with size capacity\n",
    "        return (capacity*ctypes.py_object)()\n",
    "\n",
    "    # def __str__(self):\n",
    "    def __repr__(self):  #its better\n",
    "        res = ''\n",
    "        for i in range(self.n):\n",
    "            res = res + str(self.A[i]) + ', '\n",
    "        return '[ ' + res[:-2] + ' ]'\n",
    "\n",
    "    def __getitem__(self, index):\n",
    "        if index in range(0,self.n+1):\n",
    "            return self.A[index]\n",
    "        return 'IndexError'\n",
    "\n",
    "    def pop(self):  #last item pop\n",
    "        if self.n == 0:\n",
    "            print('Empty List')\n",
    "        else:\n",
    "            print(self.A[self.n-1]) #OR\n",
    "            # print(self.A[-1])\n",
    "            self.n = self.n - 1\n",
    "\n",
    "    def clear(self):\n",
    "        self.n = 0\n",
    "        self.size = 1 #optional, to prevent of waste of storage\n",
    "\n",
    "    def find(self, val):\n",
    "        if val not in self.A:\n",
    "            return -1\n",
    "        for i in range(self.n +1):\n",
    "            if self.A[i] == val:\n",
    "                return i\n",
    "\n",
    "    def insert(self, index, val):\n",
    "        if self.n == self.size:\n",
    "            self.__resize(self.size*2)\n",
    "            \n",
    "        for j in range(self.n,index,-1):\n",
    "            self.A[j] = self.A[j-1]\n",
    "        self.A[index] = val\n",
    "        self.n += 1\n",
    "\n",
    "    def __delitem__(self, index):\n",
    "        # for j in range (self.n , index, -1 ): #--> error why?\n",
    "        #     self.A[j-1] = self.A[j]  \n",
    "\n",
    "        if index in range(0,self.n): # OR 0<= index < self.n\n",
    "            for j in range (index,self.n -1):\n",
    "                self.A[j] = self.A[j+1]\n",
    "                \n",
    "            self.n = self.n - 1 \n",
    "\n",
    "\n",
    "L = MeraList()\n",
    "L.append(\"Poli\")\n",
    "L.append(143)\n",
    "L.append(False)\n",
    "L.append('21 ?')\n",
    "print(L)"
   ]
  },
  {
   "cell_type": "code",
   "execution_count": 114,
   "metadata": {},
   "outputs": [
    {
     "data": {
      "text/plain": [
       "[ False, 21 ? ]"
      ]
     },
     "execution_count": 114,
     "metadata": {},
     "output_type": "execute_result"
    }
   ],
   "source": [
    "del L[0]\n",
    "L"
   ]
  },
  {
   "cell_type": "markdown",
   "metadata": {},
   "source": [
    "list.remove(val)"
   ]
  },
  {
   "cell_type": "code",
   "execution_count": 115,
   "metadata": {},
   "outputs": [
    {
     "name": "stdout",
     "output_type": "stream",
     "text": [
      "[ Poli, 143, False, 21 ? ]\n"
     ]
    }
   ],
   "source": [
    "import ctypes\n",
    "class MeraList:\n",
    "    def __init__ (self):\n",
    "        self.size = 1 #max capacity of list\n",
    "        self.n = 0  #currently how many items present\n",
    "        #creates a ctype array with size = self.size\n",
    "        self.A = self.__make_array(self.size)\n",
    "\n",
    "    def __len__(self):\n",
    "        return self.n\n",
    "\n",
    "    def append(self, item):\n",
    "        if self.size == self.n:\n",
    "            self.__resize(2 * self.size)\n",
    "\n",
    "        self.A[self.n] = item\n",
    "        self.n = self.n + 1\n",
    "\n",
    "    def __resize(self, size):\n",
    "        newA = self.__make_array(size)\n",
    "        self.size = size\n",
    "        for i in range(self.n):\n",
    "            newA[i] = self.A[i]\n",
    "        self.A = newA\n",
    "\n",
    "    def __make_array(self,capacity):\n",
    "        #creates a ctype array (static, referential) with size capacity\n",
    "        return (capacity*ctypes.py_object)()\n",
    "\n",
    "    # def __str__(self):\n",
    "    def __repr__(self):  #its better\n",
    "        res = ''\n",
    "        for i in range(self.n):\n",
    "            res = res + str(self.A[i]) + ', '\n",
    "        return '[ ' + res[:-2] + ' ]'\n",
    "\n",
    "    def __getitem__(self, index):\n",
    "        if index in range(0,self.n+1):\n",
    "            return self.A[index]\n",
    "        return 'IndexError'\n",
    "\n",
    "    def pop(self):  #last item pop\n",
    "        if self.n == 0:\n",
    "            print('Empty List')\n",
    "        else:\n",
    "            print(self.A[self.n-1]) #OR\n",
    "            # print(self.A[-1])\n",
    "            self.n = self.n - 1\n",
    "\n",
    "    def clear(self):\n",
    "        self.n = 0\n",
    "        self.size = 1 #optional, to prevent of waste of storage\n",
    "\n",
    "    def find(self, val):\n",
    "        if val not in self.A:\n",
    "            return -1\n",
    "        for i in range(self.n +1):\n",
    "            if self.A[i] == val:\n",
    "                return i\n",
    "\n",
    "    def insert(self, index, val):\n",
    "        if self.n == self.size:\n",
    "            self.__resize(self.size*2)\n",
    "            \n",
    "        for j in range(self.n,index,-1):\n",
    "            self.A[j] = self.A[j-1]\n",
    "        self.A[index] = val\n",
    "        self.n += 1\n",
    "\n",
    "    def __delitem__(self, index):\n",
    "        # for j in range (self.n , index, -1 ): #--> error why?\n",
    "        #     self.A[j-1] = self.A[j]  \n",
    "\n",
    "        if index in range(0,self.n): # OR 0<= index < self.n\n",
    "            for j in range (index,self.n -1):\n",
    "                self.A[j] = self.A[j+1]\n",
    "                \n",
    "            self.n = self.n - 1 \n",
    "\n",
    "    def remove(self, item):\n",
    "        pos = self.find(item)   # pre creadted def\n",
    "\n",
    "        if type(pos) == 'int':\n",
    "            #delete\n",
    "            self.__delitem__(pos)\n",
    "        else:\n",
    "            return pos  #returns that error code\n",
    "\n",
    "L = MeraList()\n",
    "L.append(\"Poli\")\n",
    "L.append(143)\n",
    "L.append(False)\n",
    "L.append('21 ?')\n",
    "print(L)"
   ]
  },
  {
   "cell_type": "code",
   "execution_count": 118,
   "metadata": {},
   "outputs": [
    {
     "data": {
      "text/plain": [
       "1"
      ]
     },
     "execution_count": 118,
     "metadata": {},
     "output_type": "execute_result"
    }
   ],
   "source": [
    "L.remove(143)"
   ]
  },
  {
   "cell_type": "code",
   "execution_count": null,
   "metadata": {},
   "outputs": [],
   "source": []
  }
 ],
 "metadata": {
  "kernelspec": {
   "display_name": "base",
   "language": "python",
   "name": "python3"
  },
  "language_info": {
   "codemirror_mode": {
    "name": "ipython",
    "version": 3
   },
   "file_extension": ".py",
   "mimetype": "text/x-python",
   "name": "python",
   "nbconvert_exporter": "python",
   "pygments_lexer": "ipython3",
   "version": "3.11.5"
  }
 },
 "nbformat": 4,
 "nbformat_minor": 2
}
